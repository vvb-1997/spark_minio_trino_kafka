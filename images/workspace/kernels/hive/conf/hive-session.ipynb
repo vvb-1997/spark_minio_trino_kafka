{
 "cells": [
  {
   "cell_type": "markdown",
   "id": "0e017875-5b06-48e7-a7f1-7b94b6e6e15a",
   "metadata": {},
   "source": [
    "# Spark Session - Hive\n",
    "\n",
    "### [Spark Session](http://localhost:4040)\n",
    "\n",
    "\n",
    "#### [Master](http://localhost:5050) :: [Worker-A](http://localhost:5051) :: [Worker-B](http://localhost:5052)\n",
    "\n",
    "\n",
    "##### [MinIO Object Storage](http://localhost:9090)\n",
    "\n",
    "user: `admin`\n",
    "password: `password`"
   ]
  },
  {
   "cell_type": "code",
   "execution_count": null,
   "id": "e273bc1b-83cc-4ea9-bfd1-2853eaea69f4",
   "metadata": {},
   "outputs": [],
   "source": [
    "from pyspark.sql import SparkSession\n",
    "\n",
    "if 'spark' in locals() or 'spark' in globals():\n",
    "    spark.stop()\n",
    "    \n",
    "spark = SparkSession\\\n",
    "    .builder\\\n",
    "    .appName(\"SparkSession - Hive\")\\\n",
    "    .getOrCreate()\n",
    "\n",
    "spark.sparkContext.setLogLevel(\"WARN\")\n",
    "\n",
    "spark"
   ]
  }
 ],
 "metadata": {
  "kernelspec": {
   "display_name": "Python 3 (ipykernel)",
   "language": "python",
   "name": "python3"
  },
  "language_info": {
   "codemirror_mode": {
    "name": "ipython",
    "version": 3
   },
   "file_extension": ".py",
   "mimetype": "text/x-python",
   "name": "python",
   "nbconvert_exporter": "python",
   "pygments_lexer": "ipython3",
   "version": "3.10.12"
  }
 },
 "nbformat": 4,
 "nbformat_minor": 5
}
